{
 "cells": [
  {
   "cell_type": "code",
   "execution_count": 32,
   "id": "f078ed0f-f579-4ca8-b592-1b8874327cd8",
   "metadata": {},
   "outputs": [],
   "source": [
    "import pandas as pd\n",
    "import json"
   ]
  },
  {
   "cell_type": "code",
   "execution_count": 41,
   "id": "bc62e52a-b5fb-440b-a936-13c52e72f2af",
   "metadata": {},
   "outputs": [],
   "source": [
    "with open('fhir/Barabara924_Lockman863_e2b0f8da-4986-4f32-9030-d4c6bf5bc935.json') as jsonfile:\n",
    "    data = json.load(jsonfile)"
   ]
  },
  {
   "cell_type": "code",
   "execution_count": 42,
   "id": "84a5ddc0-c504-468b-a3d2-89696f54773f",
   "metadata": {},
   "outputs": [
    {
     "data": {
      "text/html": [
       "<pre style=\"white-space:pre;overflow-x:auto;line-height:normal;font-family:Menlo,'DejaVu Sans Mono',consolas,'Courier New',monospace\"><span style=\"color: #008000; text-decoration-color: #008000\">'Patient'</span>\n",
       "</pre>\n"
      ],
      "text/plain": [
       "\u001b[32m'Patient'\u001b[0m\n"
      ]
     },
     "metadata": {},
     "output_type": "display_data"
    }
   ],
   "source": [
    "df = pd.DataFrame(data['entry'])\n",
    "\n",
    "ldf = list(df['resource'])\n",
    "ldf[0]['resourceType']"
   ]
  },
  {
   "cell_type": "code",
   "execution_count": 43,
   "id": "c967e326-954e-458e-bbd4-f7e70c33a7fb",
   "metadata": {},
   "outputs": [],
   "source": [
    "newlist = []\n",
    "for item in ldf:\n",
    "    if item['resourceType'] == 'MedicationAdministration':\n",
    "        newlist.append(item)\n",
    "\n",
    "new_df = pd.DataFrame(newlist)"
   ]
  },
  {
   "cell_type": "code",
   "execution_count": null,
   "id": "92b8f7b4-dcee-40d7-a9d4-a3b5fbca0e07",
   "metadata": {},
   "outputs": [],
   "source": []
  }
 ],
 "metadata": {
  "kernelspec": {
   "display_name": "Python 3 (ipykernel)",
   "language": "python",
   "name": "python3"
  },
  "language_info": {
   "codemirror_mode": {
    "name": "ipython",
    "version": 3
   },
   "file_extension": ".py",
   "mimetype": "text/x-python",
   "name": "python",
   "nbconvert_exporter": "python",
   "pygments_lexer": "ipython3",
   "version": "3.10.8"
  }
 },
 "nbformat": 4,
 "nbformat_minor": 5
}
